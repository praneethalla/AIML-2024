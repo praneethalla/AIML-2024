{
  "nbformat": 4,
  "nbformat_minor": 0,
  "metadata": {
    "colab": {
      "provenance": []
    },
    "kernelspec": {
      "name": "python3",
      "display_name": "Python 3"
    },
    "language_info": {
      "name": "python"
    }
  },
  "cells": [
    {
      "cell_type": "code",
      "execution_count": null,
      "metadata": {
        "colab": {
          "base_uri": "https://localhost:8080/"
        },
        "id": "aOsNM9HkUXwl",
        "outputId": "f94a7db5-0efa-445a-bd42-a2d61c691a8a"
      },
      "outputs": [
        {
          "output_type": "stream",
          "name": "stdout",
          "text": [
            "Type of list1: <class 'list'>\n",
            "Type of array1: <class 'numpy.ndarray'>\n",
            "Multiplication: [ 72  80 696 104]\n",
            "Division: [0.5        1.25       0.82758621 6.5       ]\n",
            "Power of: [             2985984           1073741824 -4798906340068841503\n",
            "     4503599627370496]\n",
            "Addition of Two: [12  8 29  4] + [ 6 10 24 26]\n",
            "Sin values: [-0.53657292  0.98935825 -0.66363388 -0.7568025 ]\n",
            "Log values: [2.48490665 2.07944154 3.36729583 1.38629436]\n",
            "Log2 values: [3.5849625 3.        4.857981  2.       ]\n",
            "Exponential values: [1.62754791e+05 2.98095799e+03 3.93133430e+12 5.45981500e+01]\n"
          ]
        }
      ],
      "source": [
        "import numpy as np\n",
        "import pandas as pd\n",
        "\n",
        "# 1. Lists\n",
        "list1 = [12, 8, 29, 4]\n",
        "list2 = [6, 10, 24, 26]\n",
        "\n",
        "# 2. Arrays using NumPy\n",
        "array1 = np.array(list1)\n",
        "array2 = np.array(list2)\n",
        "\n",
        "# 3. Identify their type using type()\n",
        "print(\"Type of list1:\", type(list1))\n",
        "print(\"Type of array1:\", type(array1))\n",
        "\n",
        "# 4. Perform mathematical operations\n",
        "# Multiplication\n",
        "result_multiply = array1 * array2\n",
        "print(\"Multiplication:\", result_multiply)\n",
        "\n",
        "# Division\n",
        "result_divide = array2 / array1\n",
        "print(\"Division:\", result_divide)\n",
        "\n",
        "# Power of\n",
        "result_power = np.power(array1, array2)\n",
        "print(\"Power of:\", result_power)\n",
        "\n",
        "# 5. Combine text with NumPy function\n",
        "text_output = f\"Addition of Two: {array1} + {array2}\"\n",
        "print(text_output)\n",
        "\n",
        "# 6. Implement np.sin(), log(), log2(), np.exp())\n",
        "sin_values = np.sin(array1)\n",
        "log_values = np.log(array1)\n",
        "log2_values = np.log2(array1)\n",
        "exp_values = np.exp(array1)\n",
        "\n",
        "print(\"Sin values:\", sin_values)\n",
        "print(\"Log values:\", log_values)\n",
        "print(\"Log2 values:\", log2_values)\n",
        "print(\"Exponential values:\", exp_values)\n"
      ]
    }
  ]
}